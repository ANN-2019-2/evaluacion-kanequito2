{
 "cells": [
  {
   "cell_type": "markdown",
   "metadata": {
    "colab": {},
    "colab_type": "code",
    "id": "n3lnWjvI83ix"
   },
   "source": [
    "# Filtado de mensajes spam"
   ]
  },
  {
   "cell_type": "markdown",
   "metadata": {},
   "source": [
    "## Descripción del problema real"
   ]
  },
  {
   "cell_type": "markdown",
   "metadata": {},
   "source": [
    "La recepción de publicidad no deseada a traves mensajes de texto usando SMS (Short Message Service) es un problema que afecta a muchos usuarios de teléfonos móviles. El problema radica en que los usuarios deben pagar por los mesajes recibidos, y por este motivo resulta muy importante que las compañías prestadoras del servicio puedan filtrar mensajes indeseados antes de enviarlos a su destinatario final. Los mensajes tienen una longitud máxima de 160 caracteres, por lo que el texto resulta poco para realizar la clasificación, en comparación con textos más largos (como los emails). Adicionalmente, los errores de digitación dificultan el proceso de detección automática."
   ]
  },
  {
   "cell_type": "markdown",
   "metadata": {},
   "source": [
    "## Descripción del problema en términos de los datos"
   ]
  },
  {
   "cell_type": "markdown",
   "metadata": {},
   "source": [
    "Se tiene una muestra contiene 5574 mensajes en inglés, no codificados y clasificados como legítimos (ham) o spam (http://www.dt.fee.unicamp.br/~tiago/smsspamcollection/). La información está almacenada en el archivo `datos/spam-sms.zip`.El problema en términos de los datos consiste en clasificar si un mensaje SMS es legítico o spam, a partir del análisis de las palabras que contiente, partiendo del supuesto de que ciertas palabras que son más frecuentes dependiendo del tipo de mensaje. Esto implica que en la fase de preparación de los datos se deben extraer las palabras que contiene cada mensaje para poder realizar el análsis."
   ]
  },
  {
   "cell_type": "markdown",
   "metadata": {},
   "source": [
    "## Aproximaciones posibles"
   ]
  },
  {
   "cell_type": "markdown",
   "metadata": {},
   "source": [
    "En este caso, se desea comparar los resultados de un modelo de redes neuronales artificiales y otras técnicas estadísticas para realizar la clasificación."
   ]
  },
  {
   "cell_type": "markdown",
   "metadata": {},
   "source": [
    "## Requerimientos"
   ]
  },
  {
   "cell_type": "markdown",
   "metadata": {},
   "source": [
    "Usted debe:\n",
    "\n",
    "* Preprocesar los datos para representarlos usando bag-of-words.\n",
    "\n",
    "\n",
    "* Construir un modelo de regresión logística como punto base para la comparación con otros modelos más complejos.\n",
    "\n",
    "\n",
    "* Construir un modelo de redes neuronales artificiales. Asimismo, debe determinar el número de neuronas en la capa o capas ocultas.\n",
    "\n",
    "\n",
    "* Utiizar una técnica como crossvalidation u otra similar para establecer la robustez del modelo.\n",
    "\n",
    "\n",
    "* Presentar métricas de desempeño para establecer las bondades y falencias de cada clasificador."
   ]
  },
  {
   "cell_type": "code",
   "execution_count": 1,
   "metadata": {},
   "outputs": [],
   "source": [
    "import pandas as pd\n",
    "from nltk.tokenize import word_tokenize\n",
    "from nltk.corpus import stopwords\n",
    "import nltk"
   ]
  },
  {
   "cell_type": "code",
   "execution_count": 2,
   "metadata": {},
   "outputs": [],
   "source": [
    "#En primera ejecucion descargar paquetes populares ('punkt')\n",
    "# import nltk\n",
    "# nltk.download()"
   ]
  },
  {
   "cell_type": "code",
   "execution_count": 3,
   "metadata": {},
   "outputs": [],
   "source": [
    "dataset = pd.DataFrame(columns=['tag','content'])\n",
    "\n",
    "with open('datos/SMSSpamCollection.txt',encoding='utf-8') as file:\n",
    "    content = file.read().split('\\n')\n",
    "    content = content[:-1]\n",
    "    for row in content:\n",
    "        row = word_tokenize(row)\n",
    "        if row[0] == 'spam':\n",
    "            tag = 0\n",
    "        elif row[0] == 'ham':\n",
    "            tag = 1\n",
    "        dataset = dataset.append({'tag':tag,\n",
    "                                 'content':row[1:]},ignore_index=True)\n",
    "        "
   ]
  },
  {
   "cell_type": "code",
   "execution_count": 4,
   "metadata": {},
   "outputs": [],
   "source": [
    "X = dataset['content']\n",
    "Y = dataset['tag'].astype('int')\n",
    "\n",
    "stemmer = nltk.stem.SnowballStemmer('english', ignore_stopwords = True)\n",
    "\n",
    "swords = stopwords.words('english')\n",
    "\n",
    "bow = []\n",
    "\n",
    "for content in X:\n",
    "    \n",
    "    stemmed = [stemmer.stem(word) for word in content]\n",
    "    bow.append(' '.join(stemmed))"
   ]
  },
  {
   "cell_type": "code",
   "execution_count": 5,
   "metadata": {},
   "outputs": [],
   "source": [
    "from sklearn.feature_extraction.text import CountVectorizer\n",
    "from sklearn.model_selection import train_test_split\n",
    "\n",
    "vectorizer = CountVectorizer()\n",
    "bow = vectorizer.fit_transform(bow)\n",
    "bow = bow.toarray()\n",
    "\n",
    "xtrain, xtest, ytrain, ytest = train_test_split(bow,\n",
    "                                                Y,\n",
    "                                                stratify = Y,\n",
    "                                                test_size=0.2,\n",
    "                                                random_state=420)"
   ]
  },
  {
   "cell_type": "code",
   "execution_count": 6,
   "metadata": {},
   "outputs": [],
   "source": [
    "from sklearn.linear_model import LogisticRegression\n",
    "from sklearn.metrics import confusion_matrix, accuracy_score, mean_squared_error\n",
    "\n",
    "#Logistic Reg\n",
    "logreg = LogisticRegression()\n",
    "logreg.fit(xtrain,ytrain)\n",
    "prediction = logreg.predict(xtest)"
   ]
  },
  {
   "cell_type": "code",
   "execution_count": 7,
   "metadata": {},
   "outputs": [
    {
     "name": "stdout",
     "output_type": "stream",
     "text": [
      "Accuracy:\n",
      "0.9829596412556054\n",
      "\n",
      "\n",
      "Confusion Matrix:\n",
      "[[131  18]\n",
      " [  1 965]]\n",
      "\n",
      "\n",
      "MSE:\n",
      "0.017040358744394617\n"
     ]
    }
   ],
   "source": [
    "print(f'Accuracy:\\n{accuracy_score(ytest,prediction)}\\n\\n')\n",
    "print(f'Confusion Matrix:\\n{confusion_matrix(ytest,prediction)}\\n\\n')\n",
    "print(f'MSE:\\n{mean_squared_error(ytest,prediction)}')\n",
    "log_acc = accuracy_score(ytest,prediction)\n",
    "log_mse = mean_squared_error(ytest,prediction)"
   ]
  },
  {
   "cell_type": "code",
   "execution_count": 8,
   "metadata": {},
   "outputs": [],
   "source": [
    "import tensorflow as tf\n",
    "from tensorflow import keras"
   ]
  },
  {
   "cell_type": "code",
   "execution_count": 9,
   "metadata": {},
   "outputs": [
    {
     "name": "stdout",
     "output_type": "stream",
     "text": [
      "1115/1115 [==============================] - 0s 193us/sample - loss: 0.1178 - accuracy: 0.9839\n",
      "1115/1115 [==============================] - 0s 207us/sample - loss: 0.0904 - accuracy: 0.9857\n",
      "1115/1115 [==============================] - 0s 202us/sample - loss: 0.0943 - accuracy: 0.9839\n",
      "1115/1115 [==============================] - 0s 202us/sample - loss: 0.0989 - accuracy: 0.9865\n",
      "1115/1115 [==============================] - 0s 205us/sample - loss: 0.1025 - accuracy: 0.9865\n",
      "1115/1115 [==============================] - 0s 207us/sample - loss: 0.1020 - accuracy: 0.9874\n",
      "1115/1115 [==============================] - 0s 210us/sample - loss: 0.1041 - accuracy: 0.9865\n",
      "1115/1115 [==============================] - 0s 219us/sample - loss: 0.1099 - accuracy: 0.9848\n",
      "1115/1115 [==============================] - 0s 219us/sample - loss: 0.1058 - accuracy: 0.9865\n",
      "1115/1115 [==============================] - 0s 220us/sample - loss: 0.1150 - accuracy: 0.9857\n"
     ]
    }
   ],
   "source": [
    "#neurons\n",
    "\n",
    "predictions = []\n",
    "\n",
    "for i in range(1,11):\n",
    "    \n",
    "    model = keras.Sequential()\n",
    "    \n",
    "    model.add(keras.layers.Dense(units=i,\n",
    "                                 activation=tf.nn.relu,\n",
    "                                 input_dim=xtrain.shape[1]))\n",
    "    model.add(keras.layers.Dense(units = 1,\n",
    "                                 activation=tf.nn.sigmoid))\n",
    "    \n",
    "    model.compile(optimizer='adam',\n",
    "                  loss='binary_crossentropy',\n",
    "                  metrics=['accuracy'])\n",
    "    \n",
    "    model.fit(xtrain,ytrain,epochs=50,batch_size=30,verbose=0)\n",
    "    \n",
    "    prediction = model.evaluate(xtest,ytest)\n",
    "    predictions.append((i,prediction[1]))\n",
    "    "
   ]
  },
  {
   "cell_type": "code",
   "execution_count": 10,
   "metadata": {},
   "outputs": [],
   "source": [
    "import matplotlib.pyplot as plt\n",
    "%matplotlib inline"
   ]
  },
  {
   "cell_type": "code",
   "execution_count": 11,
   "metadata": {
    "scrolled": true
   },
   "outputs": [
    {
     "data": {
      "image/png": "[encoded data removed]",
      "text/plain": [
       "<Figure size 1080x720 with 1 Axes>"
      ]
     },
     "metadata": {
      "needs_background": "light"
     },
     "output_type": "display_data"
    }
   ],
   "source": [
    "plt.figure(figsize=(15,10))\n",
    "neurons = []\n",
    "accuracies = []\n",
    "for p in predictions:\n",
    "    neurons.append(p[0])\n",
    "    accuracies.append(p[1])\n",
    "plt.xticks(neurons)\n",
    "plt.plot(neurons,accuracies)\n",
    "biggest = (predictions[0])\n",
    "for p in predictions[1:]:\n",
    "    if p[1] > biggest[1]:\n",
    "        biggest = p\n",
    "neurons_per_layer = biggest[0]"
   ]
  },
  {
   "cell_type": "code",
   "execution_count": 12,
   "metadata": {
    "scrolled": true
   },
   "outputs": [
    {
     "name": "stdout",
     "output_type": "stream",
     "text": [
      "1115/1115 [==============================] - 0s 223us/sample - loss: 0.1023 - accuracy: 0.9874\n",
      "1115/1115 [==============================] - 0s 224us/sample - loss: 0.1450 - accuracy: 0.9857\n",
      "1115/1115 [==============================] - 0s 240us/sample - loss: 0.1698 - accuracy: 0.9865\n",
      "1115/1115 [==============================] - 0s 253us/sample - loss: 0.1940 - accuracy: 0.9874\n",
      "1115/1115 [==============================] - 0s 337us/sample - loss: 0.2348 - accuracy: 0.9874\n",
      "1115/1115 [==============================] - 0s 295us/sample - loss: 0.2004 - accuracy: 0.9857\n",
      "1115/1115 [==============================] - 0s 304us/sample - loss: 0.3932 - accuracy: 0.8664\n",
      "1115/1115 [==============================] - 0s 308us/sample - loss: 0.1703 - accuracy: 0.9848\n",
      "1115/1115 [==============================] - 0s 344us/sample - loss: 0.2925 - accuracy: 0.9821\n",
      "1115/1115 [==============================] - 0s 363us/sample - loss: 0.2325 - accuracy: 0.9839\n"
     ]
    }
   ],
   "source": [
    "#layers\n",
    "\n",
    "layer_pred = []\n",
    "\n",
    "for i in range(1,11):\n",
    "    \n",
    "    model = keras.Sequential()\n",
    "    \n",
    "    for j in range(0,i):\n",
    "        \n",
    "        model.add(keras.layers.Dense(units=neurons_per_layer,\n",
    "                                     activation = tf.nn.relu,\n",
    "                                     input_dim = xtrain.shape[1]))\n",
    "    \n",
    "    model.add(keras.layers.Dense(units=1,\n",
    "                                 activation = tf.nn.sigmoid))\n",
    "    \n",
    "    model.compile(optimizer='adam',\n",
    "                  loss = 'binary_crossentropy',\n",
    "                  metrics=['accuracy'])\n",
    "    \n",
    "    model.fit(xtrain,ytrain,epochs=50,batch_size=30,verbose=0)\n",
    "    prediction = model.evaluate(xtest,ytest)\n",
    "    layer_pred.append((i,prediction[1]))"
   ]
  },
  {
   "cell_type": "code",
   "execution_count": 13,
   "metadata": {
    "scrolled": true
   },
   "outputs": [
    {
     "data": {
      "image/png": "[encoded data removed]",
      "text/plain": [
       "<Figure size 1080x720 with 1 Axes>"
      ]
     },
     "metadata": {
      "needs_background": "light"
     },
     "output_type": "display_data"
    }
   ],
   "source": [
    "plt.figure(figsize=(15,10))\n",
    "layers = []\n",
    "accuracies = []\n",
    "for p in layer_pred:\n",
    "    layers.append(p[0])\n",
    "    accuracies.append(p[1])\n",
    "plt.xticks(layers)\n",
    "plt.plot(layers,accuracies)\n",
    "biggest = layer_pred[0]\n",
    "for p in layer_pred[1:]:\n",
    "    if p[1] > biggest[1]:\n",
    "        biggest = p\n",
    "number_layers=biggest[0]"
   ]
  },
  {
   "cell_type": "code",
   "execution_count": 14,
   "metadata": {},
   "outputs": [
    {
     "name": "stdout",
     "output_type": "stream",
     "text": [
      "Number of neurons per layer 6\n",
      "Number of layers 1\n"
     ]
    }
   ],
   "source": [
    "print(f'Number of neurons per layer {neurons_per_layer}')\n",
    "print(f'Number of layers {number_layers}')"
   ]
  },
  {
   "cell_type": "code",
   "execution_count": 15,
   "metadata": {},
   "outputs": [
    {
     "name": "stdout",
     "output_type": "stream",
     "text": [
      "1115/1115 [==============================] - 0s 271us/sample - loss: 0.1017 - accuracy: 0.9865\n"
     ]
    }
   ],
   "source": [
    "#final model\n",
    "\n",
    "model = keras.Sequential()\n",
    "\n",
    "for i in range(0,number_layers):\n",
    "    model.add(keras.layers.Dense(units = neurons_per_layer,\n",
    "                                 activation = tf.nn.relu,\n",
    "                                 input_dim = xtrain.shape[1]))\n",
    "\n",
    "model.add(keras.layers.Dense(units = 1,\n",
    "                             activation = tf.nn.sigmoid))\n",
    "\n",
    "model.compile(optimizer = 'adam',\n",
    "              loss = 'binary_crossentropy',\n",
    "              metrics = ['accuracy'])\n",
    "\n",
    "model.fit(xtrain,ytrain,epochs=50,batch_size=30,verbose=0)\n",
    "prediction = model.evaluate(xtest,ytest)"
   ]
  },
  {
   "cell_type": "code",
   "execution_count": 16,
   "metadata": {},
   "outputs": [
    {
     "name": "stdout",
     "output_type": "stream",
     "text": [
      "Accuracy for NN: 0.987\n"
     ]
    }
   ],
   "source": [
    "print('Accuracy for NN:',round(prediction[1],3))"
   ]
  },
  {
   "cell_type": "code",
   "execution_count": 17,
   "metadata": {},
   "outputs": [],
   "source": [
    "from sklearn.model_selection import KFold"
   ]
  },
  {
   "cell_type": "code",
   "execution_count": 18,
   "metadata": {},
   "outputs": [
    {
     "name": "stdout",
     "output_type": "stream",
     "text": [
      "1115/1115 [==============================] - 0s 285us/sample - loss: 0.0755 - accuracy: 0.9865 - mse: 0.0112\n",
      "1115/1115 [==============================] - 0s 282us/sample - loss: 0.1260 - accuracy: 0.9785 - mse: 0.0196\n",
      "1115/1115 [==============================] - 0s 274us/sample - loss: 0.0857 - accuracy: 0.9865 - mse: 0.0130\n",
      "1114/1114 [==============================] - 0s 247us/sample - loss: 0.0801 - accuracy: 0.9847 - mse: 0.0133\n"
     ]
    }
   ],
   "source": [
    "#Cross validation\n",
    "\n",
    "\n",
    "\n",
    "def x_validation(train_index,test_index,X,Y):\n",
    "    \n",
    "    xtrain = X[train_index]\n",
    "    xtest = X[test_index]\n",
    "    ytrain = Y.iloc[train_index]\n",
    "    ytest = Y.iloc[test_index]\n",
    "    \n",
    "    model = keras.Sequential()\n",
    "    \n",
    "    for i in range(0,number_layers):\n",
    "        model.add(keras.layers.Dense(units = neurons_per_layer,\n",
    "                                     activation = tf.nn.relu,\n",
    "                                     input_dim = xtrain.shape[1]))\n",
    "    \n",
    "    model.add(keras.layers.Dense(units = 1,\n",
    "                                 activation = tf.nn.sigmoid))\n",
    "    \n",
    "    model.compile(optimizer = 'adam',\n",
    "                  loss = 'binary_crossentropy',\n",
    "                  metrics = ['accuracy', 'mse'])\n",
    "    \n",
    "    model.fit(xtrain,ytrain,epochs = 50, batch_size = 30, verbose = 0)\n",
    "    prediction = model.evaluate(xtest,ytest)\n",
    "    \n",
    "    return prediction\n",
    "\n",
    "fk = KFold(n_splits=4)\n",
    "\n",
    "predictions = []\n",
    "\n",
    "for train_index, test_index in fk.split(xtrain):\n",
    "    predictions.append(x_validation(train_index,test_index,xtrain,ytrain))"
   ]
  },
  {
   "cell_type": "code",
   "execution_count": 19,
   "metadata": {},
   "outputs": [
    {
     "name": "stdout",
     "output_type": "stream",
     "text": [
      "Regresion logistica:\n",
      "-----------------------\n",
      "Precision regresion logistica: 0.983\n",
      "Error Media Cuadrada regresion logistica: 0.017\n",
      "\n",
      "Validacion cruzada:\n",
      "-----------------------\n",
      "Precision promedio del modelo: 0.984\n",
      "Error Media Cuadrada promedio del modelo: 0.014\n"
     ]
    }
   ],
   "source": [
    "acc = []\n",
    "mse = []\n",
    "for p in predictions:\n",
    "    acc.append(p[1])\n",
    "    mse.append(p[2])\n",
    "\n",
    "print('Regresion logistica:\\n-----------------------')\n",
    "print('Precision regresion logistica:',round(log_acc,3))\n",
    "print('Error Media Cuadrada regresion logistica:',round(log_mse,3))\n",
    "print('\\nValidacion cruzada:\\n-----------------------')\n",
    "print('Precision promedio del modelo:',\n",
    "     round(sum(acc)/len(acc),3))\n",
    "print('Error Media Cuadrada promedio del modelo:',\n",
    "     round(sum(mse)/len(mse),3))"
   ]
  }
 ],
 "metadata": {
  "colab": {
   "include_colab_link": true,
   "name": "Copia de Untitled3.ipynb",
   "provenance": [],
   "version": "0.3.2"
  },
  "kernelspec": {
   "display_name": "Python 3",
   "language": "python",
   "name": "python3"
  },
  "language_info": {
   "codemirror_mode": {
    "name": "ipython",
    "version": 3
   },
   "file_extension": ".py",
   "mimetype": "text/x-python",
   "name": "python",
   "nbconvert_exporter": "python",
   "pygments_lexer": "ipython3",
   "version": "3.7.7"
  }
 },
 "nbformat": 4,
 "nbformat_minor": 2
}
